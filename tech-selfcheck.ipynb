{
 "cells": [
  {
   "cell_type": "markdown",
   "metadata": {},
   "source": [
    "# NRCSS 2022 technology self-check\n",
    "\n",
    "At the summer school we will have many hands-on tutorial sessions. If possible,\n",
    "bring a laptop and follow these instructions to prepare for the school."
   ]
  },
  {
   "cell_type": "markdown",
   "metadata": {},
   "source": [
    "## Python 3 with Jupyter notebooks\n",
    "\n",
    "Most coding tutorials will use Python. [Jupyter notebooks](https://jupyter.org)\n",
    "are a convenient way to write code alongside text and plots (you are looking at\n",
    "a Jupyter notebook now).\n",
    "\n",
    "1. Make sure you have a recent version of Python 3 installed. If you are unsure,\n",
    "   start here for a beginner's guide:\n",
    "\n",
    "    - [Beginner's guide: Downloading Python](https://wiki.python.org/moin/BeginnersGuide/Download)\n",
    "\n",
    "    To check your installation, try this:\n",
    "\n",
    "    ```sh\n",
    "    python3 --version\n",
    "    ```\n",
    "\n",
    "2. Create a [Python\n",
    "   environment](https://packaging.python.org/en/latest/guides/installing-using-pip-and-virtual-environments/).\n",
    "   It allows you to install Python packages into a separate directory, so they\n",
    "   don't conflict with other projects:\n",
    "\n",
    "    - [Python environments guide](https://packaging.python.org/en/latest/guides/installing-using-pip-and-virtual-environments/)\n",
    "\n",
    "   A standard workflow looks like this:\n",
    "\n",
    "   ```sh\n",
    "   # Create a directory and change into it:\n",
    "   mkdir nrcss22 && cd nrcss22\n",
    "   # Create a Python environment in the directory:\n",
    "   python3 -m venv ./env\n",
    "   # Activate the environment:\n",
    "   . ./env/bin/activate\n",
    "   # Install Python packages:\n",
    "   pip install numpy scipy matplotlib # ...\n",
    "   ```\n",
    "\n",
    "3. [Install Jupyter](https://jupyter.org/install) (either globally or in a\n",
    "   Python environment):\n",
    "\n",
    "    ```sh\n",
    "    pip install jupyterlab\n",
    "    ```\n",
    "\n",
    "4. [Download this notebook](https://github.com/nilsvu/nrcss22/blob/main/tech-selfcheck.ipynb) and open it in Jupyter:\n",
    "    \n",
    "    ```sh\n",
    "    cd path/to/nrcss22\n",
    "    # Download this notebook:\n",
    "    wget https://raw.githubusercontent.com/nilsvu/nrcss22/main/tech-selfcheck.ipynb\n",
    "    # Open the notebook:\n",
    "    jupyter lab tech-selfcheck.ipynb\n",
    "    ```"
   ]
  },
  {
   "cell_type": "markdown",
   "metadata": {},
   "source": [
    "Now you can run Python code in this notebook interactively. Try this:"
   ]
  },
  {
   "cell_type": "code",
   "execution_count": null,
   "metadata": {},
   "outputs": [],
   "source": [
    "import sys\n",
    "print(sys.version)\n",
    "assert sys.version_info.major >= 3 and sys.version_info.minor >= 7"
   ]
  },
  {
   "cell_type": "markdown",
   "metadata": {},
   "source": [
    "Good! Your Python environment is now set up."
   ]
  },
  {
   "cell_type": "markdown",
   "metadata": {},
   "source": [
    "## Docker\n",
    "\n",
    "With Docker you can jump right into containerized environments that the\n",
    "lecturers have prepared for the tutorials. If you haven't already, just install\n",
    "Docker:\n",
    "\n",
    "- [Install Docker](https://docs.docker.com/get-docker/)\n",
    "\n",
    "Then, make sure Docker is running by executing the following cell:"
   ]
  },
  {
   "cell_type": "code",
   "execution_count": null,
   "metadata": {},
   "outputs": [],
   "source": [
    "!docker --version"
   ]
  },
  {
   "cell_type": "markdown",
   "metadata": {},
   "source": [
    "You can try running a container like this:"
   ]
  },
  {
   "cell_type": "code",
   "execution_count": null,
   "metadata": {},
   "outputs": [],
   "source": [
    "!docker run hello-world"
   ]
  },
  {
   "cell_type": "markdown",
   "metadata": {},
   "source": [
    "Let's download a few containers that we'll use in the tutorials so you won't\n",
    "have to download them later at the school. This may take some time depending on\n",
    "your internet connection:"
   ]
  },
  {
   "cell_type": "code",
   "execution_count": null,
   "metadata": {},
   "outputs": [],
   "source": [
    "!docker pull -q sxscollaboration/spectrebuildenv:latest"
   ]
  },
  {
   "cell_type": "code",
   "execution_count": null,
   "metadata": {},
   "outputs": [],
   "source": []
  }
 ],
 "metadata": {
  "kernelspec": {
   "display_name": "Python 3.9.13 64-bit",
   "language": "python",
   "name": "python3"
  },
  "language_info": {
   "codemirror_mode": {
    "name": "ipython",
    "version": 3
   },
   "file_extension": ".py",
   "mimetype": "text/x-python",
   "name": "python",
   "nbconvert_exporter": "python",
   "pygments_lexer": "ipython3",
   "version": "3.9.13"
  },
  "orig_nbformat": 4,
  "vscode": {
   "interpreter": {
    "hash": "aee8b7b246df8f9039afb4144a1f6fd8d2ca17a180786b69acc140d282b71a49"
   }
  }
 },
 "nbformat": 4,
 "nbformat_minor": 2
}
